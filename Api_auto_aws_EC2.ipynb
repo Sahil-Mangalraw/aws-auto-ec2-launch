{
 "cells": [
  {
   "cell_type": "code",
   "execution_count": 1,
   "id": "86815dcc-6a62-4340-8a28-37bf40ad121f",
   "metadata": {},
   "outputs": [],
   "source": [
    "import boto3\n",
    "myEC2= boto3.resource(\"ec2\", region_name =\"ap-south-1\")"
   ]
  },
  {
   "cell_type": "code",
   "execution_count": 2,
   "id": "b27d8346-c732-4237-90fe-085d6c1fb8a1",
   "metadata": {},
   "outputs": [],
   "source": [
    "from flask import Flask"
   ]
  },
  {
   "cell_type": "code",
   "execution_count": 3,
   "id": "24e9e72f-3669-4334-9fc0-c810cbc66618",
   "metadata": {},
   "outputs": [],
   "source": [
    "app = Flask(__name__)"
   ]
  },
  {
   "cell_type": "code",
   "execution_count": 4,
   "id": "0c81d8a2-cf72-4ced-ab57-c36a06b9c013",
   "metadata": {},
   "outputs": [],
   "source": [
    "@app.route(\"/ec2\")\n",
    "def lunch_OS():\n",
    "    response = myEC2.create_instances(\n",
    "                InstanceType=\"t2.micro\",\n",
    "                ImageId =\"ami-0a1235697f4afa8a4\",\n",
    "                MinCount=1,\n",
    "                MaxCount=1\n",
    "                      )\n",
    "    return \"new EC2 launch in mumbai\"\n",
    "    "
   ]
  },
  {
   "cell_type": "code",
   "execution_count": null,
   "id": "84653f34-cc07-4cca-83a0-620e800f9156",
   "metadata": {},
   "outputs": [
    {
     "name": "stdout",
     "output_type": "stream",
     "text": [
      " * Serving Flask app '__main__'\n",
      " * Debug mode: off\n"
     ]
    },
    {
     "name": "stderr",
     "output_type": "stream",
     "text": [
      "WARNING: This is a development server. Do not use it in a production deployment. Use a production WSGI server instead.\n",
      " * Running on all addresses (0.0.0.0)\n",
      " * Running on http://127.0.0.1:5000\n",
      " * Running on http://192.168.1.39:5000\n",
      "Press CTRL+C to quit\n",
      "127.0.0.1 - - [15/Jul/2025 23:14:06] \"GET / HTTP/1.1\" 404 -\n",
      "127.0.0.1 - - [15/Jul/2025 23:14:07] \"GET /favicon.ico HTTP/1.1\" 404 -\n",
      "127.0.0.1 - - [15/Jul/2025 23:14:20] \"GET /ec2 HTTP/1.1\" 200 -\n",
      "127.0.0.1 - - [15/Jul/2025 23:18:22] \"GET /ec2 HTTP/1.1\" 200 -\n",
      "127.0.0.1 - - [15/Jul/2025 23:38:50] \"GET /ec2 HTTP/1.1\" 200 -\n"
     ]
    }
   ],
   "source": [
    "app.run(host=\"0.0.0.0\")"
   ]
  },
  {
   "cell_type": "code",
   "execution_count": null,
   "id": "2aca09da-632b-4650-a77e-a3fd6d1219ad",
   "metadata": {},
   "outputs": [],
   "source": []
  }
 ],
 "metadata": {
  "kernelspec": {
   "display_name": "Python [conda env:base] *",
   "language": "python",
   "name": "conda-base-py"
  },
  "language_info": {
   "codemirror_mode": {
    "name": "ipython",
    "version": 3
   },
   "file_extension": ".py",
   "mimetype": "text/x-python",
   "name": "python",
   "nbconvert_exporter": "python",
   "pygments_lexer": "ipython3",
   "version": "3.12.7"
  }
 },
 "nbformat": 4,
 "nbformat_minor": 5
}
