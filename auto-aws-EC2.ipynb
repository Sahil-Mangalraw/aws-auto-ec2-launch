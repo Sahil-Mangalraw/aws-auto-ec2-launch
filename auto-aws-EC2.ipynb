{
 "cells": [
  {
   "cell_type": "code",
   "execution_count": 14,
   "id": "89c65d1c-cf60-4e0d-bac1-c4452668bae9",
   "metadata": {},
   "outputs": [],
   "source": [
    "import boto3\n"
   ]
  },
  {
   "cell_type": "code",
   "execution_count": 15,
   "id": "6732f461-d5ee-4f70-87a0-29eb52e268eb",
   "metadata": {},
   "outputs": [],
   "source": [
    "myEC2 =boto3.resource(\"ec2\", region_name=\"ap-south-1\")"
   ]
  },
  {
   "cell_type": "code",
   "execution_count": 16,
   "id": "a1a93e4b-4b1c-45f8-9998-def44e0e04d2",
   "metadata": {},
   "outputs": [],
   "source": [
    "def osLaunch():\n",
    "    response = myEC2.create_instances(\n",
    "                InstanceType=\"t2.micro\",\n",
    "                ImageId =\"ami-0a1235697f4afa8a4\",\n",
    "                MinCount=1,\n",
    "                MaxCount=1\n",
    "                      )\n",
    "    return \"new EC2 launch in mumbai\""
   ]
  },
  {
   "cell_type": "code",
   "execution_count": 17,
   "id": "0d51fd99-19a2-4ba3-93ae-06cae949aebc",
   "metadata": {},
   "outputs": [
    {
     "data": {
      "text/plain": [
       "'new EC2 launch in mumbai'"
      ]
     },
     "execution_count": 17,
     "metadata": {},
     "output_type": "execute_result"
    }
   ],
   "source": [
    "osLaunch()"
   ]
  },
  {
   "cell_type": "code",
   "execution_count": null,
   "id": "c71361a3-1160-4333-8c1e-d5622c2b3413",
   "metadata": {},
   "outputs": [],
   "source": []
  }
 ],
 "metadata": {
  "kernelspec": {
   "display_name": "Python [conda env:base] *",
   "language": "python",
   "name": "conda-base-py"
  },
  "language_info": {
   "codemirror_mode": {
    "name": "ipython",
    "version": 3
   },
   "file_extension": ".py",
   "mimetype": "text/x-python",
   "name": "python",
   "nbconvert_exporter": "python",
   "pygments_lexer": "ipython3",
   "version": "3.12.7"
  }
 },
 "nbformat": 4,
 "nbformat_minor": 5
}
